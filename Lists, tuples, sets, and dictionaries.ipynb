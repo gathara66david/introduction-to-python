{
 "cells": [
  {
   "cell_type": "markdown",
   "metadata": {},
   "source": [
    "                                                LISTS\n",
    "One of the core data structures in Python is a list. Lists are contained in square brackets and can contain several values of differing data types. Lists can even contain lists themselves."
   ]
  },
  {
   "cell_type": "code",
   "execution_count": null,
   "metadata": {},
   "outputs": [],
   "source": [
    "\n",
    "rand_numb = [23,54,79,13] #list of random numbers\n",
    "print(type(rand_numb))\n",
    "print(rand_numb)\n",
    "concat = rand_numb + [100,254,27,89]#concatenating the list with another list\n",
    "print(concat)\n",
    "# i can also repeat the numbers in the list by multiplying the list by a number\n",
    "repeat = rand_numb * 2\n",
    "print(repeat)\n",
    "len(rand_numb)#this will give the length of the list\n",
    "print(len(rand_numb))"
   ]
  },
  {
   "cell_type": "code",
   "execution_count": null,
   "metadata": {},
   "outputs": [],
   "source": [
    "a_list = []\n",
    "a_list.append(23)#this will add 23 to the list\n",
    "print(a_list)"
   ]
  },
  {
   "cell_type": "code",
   "execution_count": null,
   "metadata": {},
   "outputs": [],
   "source": [
    "b_list = [54,54,232,13]\n",
    "print(b_list.sort())#this will sort the list in ascending order\n",
    "print(sorted(b_list))"
   ]
  },
  {
   "cell_type": "code",
   "execution_count": null,
   "metadata": {},
   "outputs": [],
   "source": [
    "b_list.sort(reverse=True)#this will sort the list in descending order\n",
    "print(b_list)"
   ]
  },
  {
   "cell_type": "markdown",
   "metadata": {},
   "source": [
    "Lastly, let's revisit indexing. As described in the preceding string section,\n",
    "Python indexing works as follows: we use square brackets to index, with\n",
    "the pattern [start:stop:step] . The default values are [0:None:1] ,\n",
    "meaning we get the entire list (start to finish) and go one element at a time.\n",
    "The values for start , stop , and step must be integers or None . Our first\n",
    "element of a list is indexed at 0, so to get the first element of a list, we do\n",
    "the following:\n"
   ]
  },
  {
   "cell_type": "code",
   "execution_count": null,
   "metadata": {},
   "outputs": [],
   "source": [
    "b_list[0]\n",
    "print(b_list[0])#this will print the first element in the list"
   ]
  },
  {
   "cell_type": "code",
   "execution_count": null,
   "metadata": {},
   "outputs": [],
   "source": [
    "print(b_list[len(a_list) - 1])#this will print the last element in the list\n",
    "print(b_list[-1])#this will print the last element in the list"
   ]
  },
  {
   "cell_type": "code",
   "execution_count": null,
   "metadata": {},
   "outputs": [],
   "source": [
    "(b_list[0:3])#this will print the first three elements in the list\n",
    "(b_list[:3])#this will print the first three elements in the list"
   ]
  },
  {
   "cell_type": "code",
   "execution_count": null,
   "metadata": {},
   "outputs": [],
   "source": [
    "print(b_list[::2])#this will print every second element in the list"
   ]
  },
  {
   "cell_type": "code",
   "execution_count": null,
   "metadata": {},
   "outputs": [],
   "source": [
    "print(b_list[::-1])#this will print the list in reverse order"
   ]
  },
  {
   "cell_type": "markdown",
   "metadata": {},
   "source": [
    "                                              Tuple\n",
    "A tuple is similar to a list, but it cannot be changed once it is created – this\n",
    "is also called immutability. Tuples have parentheses instead of square brackets, like this:\n"
   ]
  },
  {
   "cell_type": "code",
   "execution_count": null,
   "metadata": {},
   "outputs": [],
   "source": [
    "a_tuple = (23,54,79,13)#this is a tuple\n",
    "print(type(a_tuple))"
   ]
  },
  {
   "cell_type": "code",
   "execution_count": null,
   "metadata": {},
   "outputs": [],
   "source": [
    "tuple(b_list)#this will convert the list to a tuple\n",
    "print(tuple(b_list))"
   ]
  },
  {
   "cell_type": "code",
   "execution_count": null,
   "metadata": {},
   "outputs": [],
   "source": [
    "list(a_tuple)#this will convert the tuple to a list\n",
    "print(list(a_tuple))"
   ]
  },
  {
   "cell_type": "markdown",
   "metadata": {},
   "source": [
    "                                                  Sets\n",
    "Sets follow the mathematical definition, which is a group of unique values. Sets can be created with curly brackets or the set() function. For example, if we want to get the unique numbers from a list, we can convert it to a set:\n"
   ]
  },
  {
   "cell_type": "code",
   "execution_count": null,
   "metadata": {},
   "outputs": [],
   "source": [
    "set(b_list)#this will convert the list to a set\n",
    "print(set(b_list))"
   ]
  },
  {
   "cell_type": "code",
   "execution_count": null,
   "metadata": {},
   "outputs": [],
   "source": [
    "# Create a set\n",
    "my_set = {12, 34, 54, 65}\n",
    "print(type(my_set))\n",
    "print(my_set)\n",
    "\n",
    "# 1. Add an element to the set\n",
    "my_set.add(100)\n",
    "print(\"After adding 100:\", my_set)\n",
    "\n",
    "# 2. Clear the set\n",
    "my_set.clear()\n",
    "print(\"After clearing:\", my_set)\n",
    "\n",
    "# Recreate the set for further examples\n",
    "my_set = {12, 34, 54, 65}\n",
    "\n",
    "# 3. Create a copy of the set\n",
    "set_copy = my_set.copy()\n",
    "print(\"Copy of the set:\", set_copy)\n",
    "\n",
    "# 4. Difference between sets\n",
    "other_set = {34, 54, 100}\n",
    "difference_set = my_set.difference(other_set)\n",
    "print(\"Difference between my_set and other_set:\", difference_set)\n",
    "\n",
    "# 5. Difference update (modify my_set to remove elements in other_set)\n",
    "my_set.difference_update(other_set)\n",
    "print(\"After difference_update:\", my_set)\n",
    "\n",
    "# Recreate the set for further examples\n",
    "my_set = {12, 34, 54, 65}\n",
    "\n",
    "# 6. Discard an element\n",
    "my_set.discard(34)\n",
    "print(\"After discarding 34:\", my_set)\n",
    "\n",
    "# 7. Intersection of sets\n",
    "intersection_set = my_set.intersection(other_set)\n",
    "print(\"Intersection of my_set and other_set:\", intersection_set)\n",
    "\n",
    "# 8. Intersection update (modify my_set to keep only common elements)\n",
    "my_set.intersection_update(other_set)\n",
    "print(\"After intersection_update:\", my_set)\n",
    "\n",
    "# Recreate the set for further examples\n",
    "my_set = {12, 34, 54, 65}\n",
    "\n",
    "# 9. Check if sets are disjoint\n",
    "print(\"Are my_set and other_set disjoint?\", my_set.isdisjoint(other_set))\n",
    "\n",
    "# 10. Check if my_set is a subset of another set\n",
    "another_set = {12, 34, 54, 65, 100}\n",
    "print(\"Is my_set a subset of another_set?\", my_set.issubset(another_set))\n",
    "\n",
    "# 11. Check if my_set is a superset of another set\n",
    "small_set = {12, 34}\n",
    "print(\"Is my_set a superset of small_set?\", my_set.issuperset(small_set))\n",
    "\n",
    "# 12. Pop an arbitrary element\n",
    "popped_element = my_set.pop()\n",
    "print(\"Popped element:\", popped_element)\n",
    "print(\"Set after popping:\", my_set)\n",
    "\n",
    "# 13. Remove an element\n",
    "my_set.remove(54)\n",
    "print(\"After removing 54:\", my_set)\n",
    "\n",
    "# 14. Symmetric difference between sets\n",
    "symmetric_diff_set = my_set.symmetric_difference(other_set)\n",
    "print(\"Symmetric difference between my_set and other_set:\", symmetric_diff_set)\n",
    "\n",
    "# 15. Symmetric difference update (modify my_set)\n",
    "my_set.symmetric_difference_update(other_set)\n",
    "print(\"After symmetric_difference_update:\", my_set)\n",
    "\n",
    "# Recreate the set for further examples\n",
    "my_set = {12, 34, 54, 65}\n",
    "\n",
    "# 16. Union of sets\n",
    "union_set = my_set.union(other_set)\n",
    "print(\"Union of my_set and other_set:\", union_set)\n",
    "\n",
    "# 17. Update my_set with elements from another set\n",
    "my_set.update(other_set)\n",
    "print(\"After updating with other_set:\", my_set)"
   ]
  },
  {
   "cell_type": "markdown",
   "metadata": {},
   "source": [
    "                              Dictionaries\n",
    "Dictionaries are similar to sets because they have a unique set of keys, but they also contain elements with key-value pairs. Here is an example of a dictionaries\n"
   ]
  },
  {
   "cell_type": "code",
   "execution_count": 9,
   "metadata": {},
   "outputs": [],
   "source": [
    "a_dict = {'books': 1, 'magazines': 2, 'articles': 7}"
   ]
  },
  {
   "cell_type": "code",
   "execution_count": 10,
   "metadata": {},
   "outputs": [
    {
     "name": "stdout",
     "output_type": "stream",
     "text": [
      "1\n"
     ]
    }
   ],
   "source": [
    "print(a_dict['books'])"
   ]
  },
  {
   "cell_type": "code",
   "execution_count": 11,
   "metadata": {},
   "outputs": [
    {
     "name": "stdout",
     "output_type": "stream",
     "text": [
      "{'books': 1, 'magazines': 2, 'articles': 7, 'shows': 12}\n"
     ]
    }
   ],
   "source": [
    "a_dict['shows'] = 12\n",
    "print(a_dict)\n",
    "\n"
   ]
  },
  {
   "cell_type": "code",
   "execution_count": 14,
   "metadata": {},
   "outputs": [
    {
     "name": "stdout",
     "output_type": "stream",
     "text": [
      "{'books': 1, 'magazines': 2, 'articles': 7, 'shows': 12, 'gazzete': 12}\n"
     ]
    }
   ],
   "source": [
    "a_dict.update({'gazzete': 12})\n",
    "print(a_dict)"
   ]
  },
  {
   "cell_type": "code",
   "execution_count": null,
   "metadata": {},
   "outputs": [
    {
     "name": "stdout",
     "output_type": "stream",
     "text": [
      "{'books': 1, 'magazines': 2, 'articles': 7, 'shows': 12, 'gazzete': 12, 'movies': 4}\n"
     ]
    }
   ],
   "source": [
    "another_dict = {'movies': 4}\n",
    "joined_dict = a_dict | another_dict\n",
    "print(joined_dict)#this will join the two dictionaries"
   ]
  }
 ],
 "metadata": {
  "kernelspec": {
   "display_name": "Python 3",
   "language": "python",
   "name": "python3"
  },
  "language_info": {
   "codemirror_mode": {
    "name": "ipython",
    "version": 3
   },
   "file_extension": ".py",
   "mimetype": "text/x-python",
   "name": "python",
   "nbconvert_exporter": "python",
   "pygments_lexer": "ipython3",
   "version": "3.11.9"
  }
 },
 "nbformat": 4,
 "nbformat_minor": 2
}
