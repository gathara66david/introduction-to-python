{
 "cells": [
  {
   "cell_type": "code",
   "execution_count": null,
   "metadata": {},
   "outputs": [],
   "source": [
    "# this is a comment\n",
    "\"\"\" multi-line comments can be done like this \"\"\"\n"
   ]
  },
  {
   "cell_type": "code",
   "execution_count": null,
   "metadata": {},
   "outputs": [],
   "source": [
    "# Numbers\n",
    "print(2 + 2) # addition\n",
    "print(2 - 2) # subtraction\n",
    "print(2 * 2 )# multiplication\n",
    "print(2 / 2) # division\n",
    "print(2 // 2) # integer division\n",
    "print(2**3) # exponentiation\n",
    "print(2 % 2) # modulus\n",
    "print(type(45))"
   ]
  },
  {
   "cell_type": "code",
   "execution_count": null,
   "metadata": {},
   "outputs": [],
   "source": [
    "# mathematics module\n",
    "import math\n",
    "math.lcm(3,5,7)\n",
    "print(dir(math))# list all the functions in the math module\n",
    "print(\"\"\"multi line string\"\"\")"
   ]
  },
  {
   "cell_type": "code",
   "execution_count": null,
   "metadata": {},
   "outputs": [],
   "source": [
    "print('a' + 'string') # concatenate strings\n",
    "print('a' * 2) # repeat strings\n",
    "print('a string'[0]) # first character of a string\n",
    "print('a string'[-1]) # last character of a string\n",
    "print('a string'[0:4]) # index a string to get first 4 characters\n",
    "print('a string'[:4]) # index a string to get first 4 characters\n",
    "print('a string'[::2]) # get every other letter\n",
    "print('a string'[::-1]) # reverse the string\n",
    "print('a string'[:5:2]) # every other letter in the first 5 characters"
   ]
  },
  {
   "cell_type": "code",
   "execution_count": null,
   "metadata": {},
   "outputs": [],
   "source": [
    "# Python has many built-in functions for strings\n",
    "\"\"\".join() , .split() , .lstrip() / .rstrip() , and .removeprefix() / .removesuffix() \"\"\"\n",
    "\n",
    "print('-'.join(['this', 'is', 'a', 'test'])) # join a list of strings with a hyphen\n",
    "print('this is a test'.split()) # split a string into a list of strings\n",
    "print('testtest - remove left'.lstrip('tes')) # remove the left side of a string\n",
    "print('testtest - remove right'.rstrip('ght')) # remove the right side of a string\n",
    "print('testtest - remove left'.removeprefix('testte')) # remove the left side of a string\n",
    "print('testtest - remove right'.removesuffix('ght')) # remove the right side of a string\n",
    "print(f'The answer is  {2 + 2}') # string formatting\n",
    "print('The answer is {}'.format(2 + 2)) # string formatting\n"
   ]
  },
  {
   "cell_type": "code",
   "execution_count": null,
   "metadata": {},
   "outputs": [],
   "source": [
    "#Variables\n",
    "books = 5\n",
    "print(books)# print the value of books\n",
    "books +=2\n",
    "print(books)# add 2 to the value of books   \n",
    "books *=3\n",
    "print(books)# multiply the value of books by 3\n",
    "books /=2\n",
    "print(books)# divide the value of books by 2\n",
    "books -=1\n",
    "print(books)# subtract 1 from the value of books\n",
    "books **=2\n",
    "print(books)# raise the value of books to the power of 2\n",
    "books %=2\n",
    "print(books)# get the modulus of the value of books\n",
    "books //=2\n",
    "print(books)# get the integer division of the value of books#Variables\n"
   ]
  },
  {
   "cell_type": "code",
   "execution_count": null,
   "metadata": {},
   "outputs": [],
   "source": [
    "a = 'string 1'\n",
    "b = 'another string'\n",
    "print(a + b)# concatenate strings"
   ]
  },
  {
   "cell_type": "code",
   "execution_count": null,
   "metadata": {},
   "outputs": [],
   "source": [
    "a = 'string 1'\n",
    "print(type(a))"
   ]
  }
 ],
 "metadata": {
  "kernelspec": {
   "display_name": "Python 3",
   "language": "python",
   "name": "python3"
  },
  "language_info": {
   "codemirror_mode": {
    "name": "ipython",
    "version": 3
   },
   "file_extension": ".py",
   "mimetype": "text/x-python",
   "name": "python",
   "nbconvert_exporter": "python",
   "pygments_lexer": "ipython3",
   "version": "3.11.9"
  }
 },
 "nbformat": 4,
 "nbformat_minor": 2
}
