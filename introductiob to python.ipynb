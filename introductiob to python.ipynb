{
 "cells": [
  {
   "cell_type": "code",
   "execution_count": 8,
   "metadata": {},
   "outputs": [
    {
     "data": {
      "text/plain": [
       "' multi-line comments can be done like this '"
      ]
     },
     "execution_count": 8,
     "metadata": {},
     "output_type": "execute_result"
    }
   ],
   "source": [
    "# this is a comment\n",
    "\"\"\" multi-line comments can be done like this \"\"\"\n"
   ]
  },
  {
   "cell_type": "code",
   "execution_count": 1,
   "metadata": {},
   "outputs": [
    {
     "name": "stdout",
     "output_type": "stream",
     "text": [
      "4\n",
      "0\n",
      "4\n",
      "1.0\n",
      "1\n",
      "8\n",
      "0\n",
      "<class 'int'>\n"
     ]
    }
   ],
   "source": [
    "# Numbers\n",
    "print(2 + 2) # addition\n",
    "print(2 - 2) # subtraction\n",
    "print(2 * 2 )# multiplication\n",
    "print(2 / 2) # division\n",
    "print(2 // 2) # integer division\n",
    "print(2**3) # exponentiation\n",
    "print(2 % 2) # modulus\n",
    "print(type(45))"
   ]
  },
  {
   "cell_type": "code",
   "execution_count": 2,
   "metadata": {},
   "outputs": [
    {
     "name": "stdout",
     "output_type": "stream",
     "text": [
      "['__doc__', '__loader__', '__name__', '__package__', '__spec__', 'acos', 'acosh', 'asin', 'asinh', 'atan', 'atan2', 'atanh', 'cbrt', 'ceil', 'comb', 'copysign', 'cos', 'cosh', 'degrees', 'dist', 'e', 'erf', 'erfc', 'exp', 'exp2', 'expm1', 'fabs', 'factorial', 'floor', 'fmod', 'frexp', 'fsum', 'gamma', 'gcd', 'hypot', 'inf', 'isclose', 'isfinite', 'isinf', 'isnan', 'isqrt', 'lcm', 'ldexp', 'lgamma', 'log', 'log10', 'log1p', 'log2', 'modf', 'nan', 'nextafter', 'perm', 'pi', 'pow', 'prod', 'radians', 'remainder', 'sin', 'sinh', 'sqrt', 'tan', 'tanh', 'tau', 'trunc', 'ulp']\n",
      "multi line string\n"
     ]
    }
   ],
   "source": [
    "# mathematics module\n",
    "import math\n",
    "math.lcm(3,5,7)\n",
    "print(dir(math))# list all the functions in the math module\n",
    "print(\"\"\"multi line string\"\"\")"
   ]
  },
  {
   "cell_type": "code",
   "execution_count": 3,
   "metadata": {},
   "outputs": [
    {
     "name": "stdout",
     "output_type": "stream",
     "text": [
      "astring\n",
      "aa\n",
      "a\n",
      "g\n",
      "a st\n",
      "a st\n",
      "asrn\n",
      "gnirts a\n",
      "asr\n"
     ]
    }
   ],
   "source": [
    "print('a' + 'string') # concatenate strings\n",
    "print('a' * 2) # repeat strings\n",
    "print('a string'[0]) # first character of a string\n",
    "print('a string'[-1]) # last character of a string\n",
    "print('a string'[0:4]) # index a string to get first 4 characters\n",
    "print('a string'[:4]) # index a string to get first 4 characters\n",
    "print('a string'[::2]) # get every other letter\n",
    "print('a string'[::-1]) # reverse the string\n",
    "print('a string'[:5:2]) # every other letter in the first 5 characters"
   ]
  },
  {
   "cell_type": "code",
   "execution_count": 4,
   "metadata": {},
   "outputs": [
    {
     "name": "stdout",
     "output_type": "stream",
     "text": [
      "this-is-a-test\n",
      "['this', 'is', 'a', 'test']\n",
      " - remove left\n",
      "testtest - remove ri\n",
      "st - remove left\n",
      "testtest - remove ri\n",
      "The answer is  4\n",
      "The answer is 4\n"
     ]
    }
   ],
   "source": [
    "# Python has many built-in functions for strings\n",
    "\"\"\".join() , .split() , .lstrip() / .rstrip() , and .removeprefix() / .removesuffix() \"\"\"\n",
    "\n",
    "print('-'.join(['this', 'is', 'a', 'test'])) # join a list of strings with a hyphen\n",
    "print('this is a test'.split()) # split a string into a list of strings\n",
    "print('testtest - remove left'.lstrip('tes')) # remove the left side of a string\n",
    "print('testtest - remove right'.rstrip('ght')) # remove the right side of a string\n",
    "print('testtest - remove left'.removeprefix('testte')) # remove the left side of a string\n",
    "print('testtest - remove right'.removesuffix('ght')) # remove the right side of a string\n",
    "print(f'The answer is  {2 + 2}') # string formatting\n",
    "print('The answer is {}'.format(2 + 2)) # string formatting\n"
   ]
  },
  {
   "cell_type": "code",
   "execution_count": 5,
   "metadata": {},
   "outputs": [
    {
     "name": "stdout",
     "output_type": "stream",
     "text": [
      "5\n",
      "7\n",
      "21\n",
      "10.5\n",
      "9.5\n",
      "90.25\n",
      "0.25\n",
      "0.0\n"
     ]
    }
   ],
   "source": [
    "#Variables\n",
    "books = 5\n",
    "print(books)# print the value of books\n",
    "books +=2\n",
    "print(books)# add 2 to the value of books   \n",
    "books *=3\n",
    "print(books)# multiply the value of books by 3\n",
    "books /=2\n",
    "print(books)# divide the value of books by 2\n",
    "books -=1\n",
    "print(books)# subtract 1 from the value of books\n",
    "books **=2\n",
    "print(books)# raise the value of books to the power of 2\n",
    "books %=2\n",
    "print(books)# get the modulus of the value of books\n",
    "books //=2\n",
    "print(books)# get the integer division of the value of books#Variables\n"
   ]
  },
  {
   "cell_type": "code",
   "execution_count": 6,
   "metadata": {},
   "outputs": [
    {
     "name": "stdout",
     "output_type": "stream",
     "text": [
      "string 1another string\n"
     ]
    }
   ],
   "source": [
    "a = 'string 1'\n",
    "b = 'another string'\n",
    "print(a + b)# concatenate strings"
   ]
  },
  {
   "cell_type": "code",
   "execution_count": 7,
   "metadata": {},
   "outputs": [
    {
     "name": "stdout",
     "output_type": "stream",
     "text": [
      "<class 'str'>\n"
     ]
    }
   ],
   "source": [
    "a = 'string 1'\n",
    "print(type(a))"
   ]
  }
 ],
 "metadata": {
  "kernelspec": {
   "display_name": "base",
   "language": "python",
   "name": "python3"
  },
  "language_info": {
   "codemirror_mode": {
    "name": "ipython",
    "version": 3
   },
   "file_extension": ".py",
   "mimetype": "text/x-python",
   "name": "python",
   "nbconvert_exporter": "python",
   "pygments_lexer": "ipython3",
   "version": "3.12.7"
  }
 },
 "nbformat": 4,
 "nbformat_minor": 2
}
