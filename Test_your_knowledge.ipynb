{
 "cells": [
  {
   "cell_type": "markdown",
   "metadata": {},
   "source": [
    "This notebook will help you practice some of the skills and concepts you learned in chapter 2 of the book:\n",
    "- Strings, Numbers\n",
    "- Variables\n",
    "- Lists, Sets, Dictionaries\n",
    "- Loops and list comprehensions\n",
    "- Control Flow\n",
    "- Functions\n",
    "- Classes\n",
    "- Packages/Modules\n",
    "- Debugging an error\n",
    "- Using documentation"
   ]
  },
  {
   "cell_type": "markdown",
   "metadata": {},
   "source": [
    "Here we have some data on the number of books read by different people who work at Bob's Book Emporium. Create Python code that loops through each of the people and prints out how many books they have read. If someone has read 0 books, print out \"___ has not read any books!\" instead of the number of books."
   ]
  },
  {
   "cell_type": "code",
   "execution_count": 1,
   "metadata": {},
   "outputs": [],
   "source": [
    "people = ['Krishnang', 'Steve', 'Jimmy', 'Mary', 'Divya', 'Robert', 'Yulia']\n",
    "books_read = [12, 6, 0, 7, 4, 10, 15]"
   ]
  },
  {
   "cell_type": "markdown",
   "metadata": {},
   "source": [
    "There are several ways to solve this -- you could look at the `zip()` function, use `enumerate()`, use `range` and `len`, or use other methods. To print the names and values, you can use string concatenation (+), f-string formatting, or other methods."
   ]
  },
  {
   "cell_type": "code",
   "execution_count": 2,
   "metadata": {},
   "outputs": [
    {
     "name": "stdout",
     "output_type": "stream",
     "text": [
      "{'Krishnang': 12, 'Steve': 6, 'Jimmy': 0, 'Mary': 7, 'Divya': 4, 'Robert': 10, 'Yulia': 15}\n"
     ]
    }
   ],
   "source": [
    "# your code here\n",
    "print(dict(zip(people, books_read)))"
   ]
  },
  {
   "cell_type": "code",
   "execution_count": 3,
   "metadata": {},
   "outputs": [
    {
     "name": "stdout",
     "output_type": "stream",
     "text": [
      "{'Krishnang': 12, 'Steve': 6, 'Jimmy': 0, 'Mary': 7, 'Divya': 4, 'Robert': 10, 'Yulia': 15}\n"
     ]
    }
   ],
   "source": [
    "\n",
    "print({people[i]: books_read[i] for i in range(len(people))})"
   ]
  },
  {
   "cell_type": "code",
   "execution_count": 4,
   "metadata": {},
   "outputs": [
    {
     "name": "stdout",
     "output_type": "stream",
     "text": [
      "Krishnang    12\n",
      "Steve         6\n",
      "Jimmy         0\n",
      "Mary          7\n",
      "Divya         4\n",
      "Robert       10\n",
      "Yulia        15\n",
      "dtype: int64\n"
     ]
    }
   ],
   "source": [
    "import pandas as pd\n",
    "\n",
    "series_books = pd.Series(books_read, index=people)\n",
    "print(series_books)\n"
   ]
  },
  {
   "cell_type": "markdown",
   "metadata": {},
   "source": [
    "Turn the loop we just created into a function that takes the two lists (books read and people) as arguments. Be sure to try out your function to make sure it works."
   ]
  },
  {
   "cell_type": "code",
   "execution_count": 5,
   "metadata": {},
   "outputs": [
    {
     "name": "stdout",
     "output_type": "stream",
     "text": [
      "{'Krishnang': 12, 'Steve': 6, 'Jimmy': 0, 'Mary': 7, 'Divya': 4, 'Robert': 10, 'Yulia': 15}\n"
     ]
    }
   ],
   "source": [
    "# your code here\n",
    "def list(people, books_read):\n",
    "    return dict(zip(people, books_read))\n",
    "print(list(people, books_read))"
   ]
  },
  {
   "cell_type": "markdown",
   "metadata": {},
   "source": [
    "Challenge: Sort the values of `books_read` from greatest to least and print the top three people with the number of books  they have read. This is a tougher problem. Some possible ways to solve it include using NumPy's argsort, creating a dictionary, and creating tuples."
   ]
  },
  {
   "cell_type": "code",
   "execution_count": 6,
   "metadata": {},
   "outputs": [
    {
     "name": "stdout",
     "output_type": "stream",
     "text": [
      "['Yulia', 'Krishnang', 'Robert']\n"
     ]
    }
   ],
   "source": [
    "# sort people and books_read together and print the top three names\n",
    "sorted_items = sorted(zip(people, books_read), key=lambda x: x[1], reverse=True)\n",
    "print([name for name, count in sorted_items[:3]])\n"
   ]
  },
  {
   "cell_type": "markdown",
   "metadata": {},
   "source": [
    "Bob's books gets a discount for every multiple of 3 books their employees buy and read. Find out how many multiples of 3 books they have read, and how many more books need to be read to get to the next multiple of 3. Python has a built-in `sum` function that may be useful here, and don't forget about the modulo operator."
   ]
  },
  {
   "cell_type": "code",
   "execution_count": 7,
   "metadata": {},
   "outputs": [
    {
     "name": "stdout",
     "output_type": "stream",
     "text": [
      "Multiples of 3 books read: 18\n",
      "Books needed for the next multiple: 3\n"
     ]
    }
   ],
   "source": [
    "# your code here\n",
    "total_books = sum(books_read)\n",
    "multiples = total_books // 3\n",
    "remainder = total_books % 3\n",
    "books_needed = 3 - remainder if remainder != 0 else 3\n",
    "\n",
    "print(\"Multiples of 3 books read:\", multiples)\n",
    "print(\"Books needed for the next multiple:\", books_needed)"
   ]
  },
  {
   "cell_type": "markdown",
   "metadata": {},
   "source": [
    "Create a dictionary for the data where the keys are people's names and the values are the number of books. An advanced way to do this would be with a dictionary comprehension, but you can also use a loop."
   ]
  },
  {
   "cell_type": "code",
   "execution_count": 8,
   "metadata": {},
   "outputs": [
    {
     "name": "stdout",
     "output_type": "stream",
     "text": [
      "{'Krishnang': 12, 'Steve': 6, 'Jimmy': 0, 'Mary': 7, 'Divya': 4, 'Robert': 10, 'Yulia': 15}\n"
     ]
    }
   ],
   "source": [
    "# your code here\n",
    "books_dict = {person: books for person, books in zip(people, books_read)}\n",
    "print(books_dict)"
   ]
  },
  {
   "cell_type": "markdown",
   "metadata": {},
   "source": [
    "Challenge: Use the dictionary to print out the top 3 people with the most books read. This is where Stack Overflow and searching the web might come in handy -- try searching 'sort dictionary by value in Python'."
   ]
  },
  {
   "cell_type": "code",
   "execution_count": 9,
   "metadata": {},
   "outputs": [
    {
     "name": "stdout",
     "output_type": "stream",
     "text": [
      "['Yulia', 'Krishnang', 'Robert']\n"
     ]
    }
   ],
   "source": [
    "# your code here\n",
    "sorted_books = sorted(books_dict.items(), key=lambda x: x[1], reverse=True)\n",
    "print([name for name, count in sorted_books[:3]])"
   ]
  },
  {
   "cell_type": "markdown",
   "metadata": {},
   "source": [
    "Using sets, ensure there are no duplicate names in our data. (Yes, this is trivial since our data is small and we can manually inspect it, but if we had thousands of names, we could use the same method as we do here.)"
   ]
  },
  {
   "cell_type": "code",
   "execution_count": 10,
   "metadata": {},
   "outputs": [
    {
     "name": "stdout",
     "output_type": "stream",
     "text": [
      "Series([], dtype: int64)\n"
     ]
    }
   ],
   "source": [
    "# your code here\n",
    "# use pandas to find duplicates\n",
    "series_books = pd.Series(books_read, index=people)\n",
    "duplicates = series_books[series_books.duplicated()]\n",
    "print(duplicates)\n"
   ]
  },
  {
   "cell_type": "code",
   "execution_count": 11,
   "metadata": {},
   "outputs": [
    {
     "name": "stdout",
     "output_type": "stream",
     "text": [
      "[]\n"
     ]
    }
   ],
   "source": [
    "#another way without using pandas library\n",
    "duplicates = [item for item in books_read if books_read.count(item) > 1]\n",
    "print(duplicates)"
   ]
  },
  {
   "cell_type": "markdown",
   "metadata": {},
   "source": [
    "Create a class for storing the books read and people's names. The class should also include a function for printing out the top three book readers. Test out your class to make sure it works."
   ]
  },
  {
   "cell_type": "code",
   "execution_count": 12,
   "metadata": {},
   "outputs": [
    {
     "name": "stdout",
     "output_type": "stream",
     "text": [
      "Top three readers: ['Yulia', 'Krishnang', 'Robert']\n"
     ]
    }
   ],
   "source": [
    "# your code here\n",
    "class BookReaders:\n",
    "    def __init__(self, people, books_read):\n",
    "        self.people = people\n",
    "        self.books_read = books_read\n",
    "\n",
    "    def top_three(self):\n",
    "        sorted_items = sorted(zip(self.people, self.books_read), key=lambda x: x[1], reverse=True)\n",
    "        return [name for name, count in sorted_items[:3]]\n",
    "\n",
    "# Test out the class\n",
    "book_readers = BookReaders(people, books_read)\n",
    "print(\"Top three readers:\", book_readers.top_three())"
   ]
  },
  {
   "cell_type": "markdown",
   "metadata": {},
   "source": [
    "Use the time module to see how long it takes to make a new class and print out the top three readers."
   ]
  },
  {
   "cell_type": "code",
   "execution_count": 13,
   "metadata": {},
   "outputs": [
    {
     "name": "stdout",
     "output_type": "stream",
     "text": [
      "Top three readers: ['Yulia', 'Krishnang', 'Robert']\n",
      "Elapsed time: 0.000000 seconds\n"
     ]
    }
   ],
   "source": [
    "# your code here\n",
    "import time\n",
    "\n",
    "start = time.time()\n",
    "# create a new instance of BookReaders\n",
    "book_readers = BookReaders(people, books_read)\n",
    "top_three = book_readers.top_three()\n",
    "elapsed_time = time.time() - start\n",
    "\n",
    "print(\"Top three readers:\", top_three)\n",
    "print(\"Elapsed time: {:.6f} seconds\".format(elapsed_time))\n"
   ]
  },
  {
   "cell_type": "markdown",
   "metadata": {},
   "source": [
    "Another way to do this is with the %%timeit magic command:"
   ]
  },
  {
   "cell_type": "markdown",
   "metadata": {},
   "source": [
    "The code below is throwing a few errors. Debug and correct the error so the code runs."
   ]
  },
  {
   "cell_type": "code",
   "execution_count": 14,
   "metadata": {},
   "outputs": [
    {
     "name": "stdout",
     "output_type": "stream",
     "text": [
      "Steve has only read 6 books\n",
      "Mary has only read 7 books\n",
      "Divya has only read 4 books\n"
     ]
    }
   ],
   "source": [
    "count = 0\n",
    "for b, p in zip(books_read, people):\n",
    "    if b > 0 and b < 10:\n",
    "        results = (p + ' has only read ' + str(b) + ' books')\n",
    "        print(results)\n",
    "        count += 1\n",
    "        if count == 3:\n",
    "            break"
   ]
  },
  {
   "cell_type": "markdown",
   "metadata": {},
   "source": [
    "Use the documentation (https://docs.python.org/3/library/stdtypes.html#string-methods) to understand how the functions `rjust` and `ljust` work, then modify the loop below so the output looks something like:\n",
    "\n",
    "```\n",
    "Krishnang------12 books\n",
    "Steve---------- 6 books\n",
    "Jimmy---------- 0 books\n",
    "Mary----------- 7 books\n",
    "Divya---------- 4 books\n",
    "Robert---------10 books\n",
    "Yulia----------15 books\n",
    "```"
   ]
  },
  {
   "cell_type": "code",
   "execution_count": 15,
   "metadata": {},
   "outputs": [
    {
     "name": "stdout",
     "output_type": "stream",
     "text": [
      "Krishnang 12 books\n",
      "Steve 6 books\n",
      "Jimmy 0 books\n",
      "Mary 7 books\n",
      "Divya 4 books\n",
      "Robert 10 books\n",
      "Yulia 15 books\n"
     ]
    }
   ],
   "source": [
    "for b, p in zip(books_read, people):\n",
    "    print(f'{p} {b} books')"
   ]
  }
 ],
 "metadata": {
  "kernelspec": {
   "display_name": "Python 3",
   "language": "python",
   "name": "python3"
  },
  "language_info": {
   "codemirror_mode": {
    "name": "ipython",
    "version": 3
   },
   "file_extension": ".py",
   "mimetype": "text/x-python",
   "name": "python",
   "nbconvert_exporter": "python",
   "pygments_lexer": "ipython3",
   "version": "3.11.9"
  }
 },
 "nbformat": 4,
 "nbformat_minor": 4
}
