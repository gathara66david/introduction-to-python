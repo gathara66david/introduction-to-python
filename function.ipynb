{
 "cells": [
  {
   "cell_type": "code",
   "execution_count": 2,
   "metadata": {},
   "outputs": [],
   "source": [
    "def test_function(doPrint, printAdd='more'):\n",
    " \"\"\"\n",
    " A demo function.\n",
    " \"\"\"\n",
    " if doPrint:\n",
    "     print('test' + printAdd)\n",
    " return printAdd"
   ]
  },
  {
   "cell_type": "code",
   "execution_count": null,
   "metadata": {},
   "outputs": [],
   "source": [
    "def test_function():\n",
    " \"\"\"\n",
    " A demo function.\n",
    " \"\"\"\n",
    " func_var = 'testing'\n",
    " print(func_var)\n",
    "print(func_var) # returns NameError; variable not defined"
   ]
  },
  {
   "cell_type": "code",
   "execution_count": null,
   "metadata": {},
   "outputs": [],
   "source": [
    "add10 = lambda x, y: x + y + 10\n",
    "add10(10, 3)add10 = lambda x, y: x + y + 10"
   ]
  },
  {
   "cell_type": "code",
   "execution_count": null,
   "metadata": {},
   "outputs": [],
   "source": []
  }
 ],
 "metadata": {
  "kernelspec": {
   "display_name": "Python 3",
   "language": "python",
   "name": "python3"
  },
  "language_info": {
   "codemirror_mode": {
    "name": "ipython",
    "version": 3
   },
   "file_extension": ".py",
   "mimetype": "text/x-python",
   "name": "python",
   "nbconvert_exporter": "python",
   "pygments_lexer": "ipython3",
   "version": "3.11.9"
  }
 },
 "nbformat": 4,
 "nbformat_minor": 2
}
